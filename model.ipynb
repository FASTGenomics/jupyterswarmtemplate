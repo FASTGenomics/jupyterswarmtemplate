{
 "cells": [
  {
   "cell_type": "code",
   "execution_count": null,
   "id": "5e8d6784-2cdb-427a-be52-e4e302d9ce58",
   "metadata": {},
   "outputs": [],
   "source": [
    "############################################################################\n",
    "## Copyright 2021 Hewlett Packard Enterprise Development LP\n",
    "## Licensed under the Apache License, Version 2.0 (the \"License\"); you may\n",
    "## not use this file except in compliance with the License. You may obtain\n",
    "## a copy of the License at\n",
    "##\n",
    "##    http://www.apache.org/licenses/LICENSE-2.0\n",
    "##\n",
    "## Unless required by applicable law or agreed to in writing, software\n",
    "## distributed under the License is distributed on an \"AS IS\" BASIS, WITHOUT\n",
    "## WARRANTIES OR CONDITIONS OF ANY KIND, either express or implied. See the\n",
    "## License for the specific language governing permissions and limitations\n",
    "## under the License.\n",
    "############################################################################\n"
   ]
  },
  {
   "cell_type": "code",
   "execution_count": null,
   "id": "2c6e71eb-cee0-4c33-8483-044ca9be2b5d",
   "metadata": {
    "tags": []
   },
   "outputs": [],
   "source": [
    "import os\n",
    "import json\n",
    "\n",
    "# if FG_URL is set \n",
    "is_in_interactive_mode = os.environ['FG_URL'] != \"\"\n",
    "\n",
    "if is_in_interactive_mode:\n",
    "   print(\"running in interactive mode\")\n",
    "   dataDir = os.path.join( os.environ['FG_ANALYSIS_DIR'] , \"data\" )\n",
    "   resultDir = os.path.join(os.environ['FG_ANALYSIS_DIR'], \"result\")\n",
    "else:\n",
    "   print(\"running in swarm mode\")\n",
    "   dataDir = \"/data\"\n",
    "   resultDir = \"/result\"\n",
    "\n",
    "\n",
    "\n",
    "analysisInfoJson = \"analysis_info.json\"\n",
    "assert os.path.isfile(analysisInfoJson), \"the 'analysis_info.json' is missing\"\n",
    "\n",
    "with open(analysisInfoJson, 'r') as f:\n",
    "   analysisInfo = json.load(f)\n",
    "\n",
    "domainProps = analysisInfo.get(\"domain\")\n",
    "minimum_peers = domainProps.get(\"minimum-peers\", 2)\n",
    "max_epochs = domainProps.get(\"convergence-max-epochs\", 2)\n",
    "sync_interval = domainProps.get(\"convergence-sync-interval\", 100)\n",
    "batch_size = domainProps.get(\"convergence-batch-size\", 32)\n",
    "\n",
    "print(\"\")\n",
    "print(f\"data directory   = {dataDir}\")\n",
    "print(f\"result directory = {resultDir}\")\n",
    "print(f\"minimum_peers    = {minimum_peers}\")\n",
    "print(f\"max_epochs       = {max_epochs}\")\n",
    "print(f\"sync_interval    = {sync_interval}\")\n",
    "print(f\"batch_size       = {batch_size}\")"
   ]
  },
  {
   "cell_type": "code",
   "execution_count": null,
   "id": "d6f18568-2e09-43d9-b201-2c8cbb2d8c10",
   "metadata": {},
   "outputs": [],
   "source": [
    "import tensorflow as tf\n",
    "import numpy as np\n",
    "import time\n",
    "import datetime\n",
    "import os\n"
   ]
  },
  {
   "cell_type": "code",
   "execution_count": null,
   "id": "bc75b0d3-f600-4736-af58-eaf9228b07f4",
   "metadata": {},
   "outputs": [],
   "source": [
    "if not is_in_interactive_mode:\n",
    "    from swarmlearning.tf import SwarmCallback\n"
   ]
  },
  {
   "cell_type": "code",
   "execution_count": null,
   "id": "254da750-c2c4-40dc-8de2-9b7caede9b27",
   "metadata": {},
   "outputs": [],
   "source": [
    "def load_data(dataDir):\n",
    "    \"\"\"Loads the MNIST dataset.\n",
    "    # Arguments\n",
    "        dataDir: path where to find the mnist.npz file\n",
    "    # Returns\n",
    "        Tuple of Numpy arrays: `(x_train, y_train), (x_test, y_test)`.\n",
    "    \"\"\"\n",
    "    path = os.path.join(dataDir,'mnist.npz') \n",
    "\n",
    "    with np.load(path, allow_pickle=True) as f:\n",
    "        x_train, y_train = f['x_train'], f['y_train']\n",
    "        x_test, y_test = f['x_test'], f['y_test']\n",
    "    return (x_train, y_train), (x_test, y_test)\n",
    "\n",
    "\n",
    "def main():\n",
    "  model_name = 'mnist_tf'\n",
    "\n",
    "  (x_train, y_train),(x_test, y_test) = load_data(dataDir)\n",
    "  x_train, x_test = x_train / 255.0, x_test / 255.0\n",
    "\n",
    "  model = tf.keras.models.Sequential([\n",
    "    tf.keras.layers.Flatten(input_shape=(28, 28)),\n",
    "    tf.keras.layers.Dense(512, activation=tf.nn.relu),\n",
    "    tf.keras.layers.Dropout(0.2),\n",
    "    tf.keras.layers.Dense(10, activation=tf.nn.softmax)\n",
    "  ])\n",
    "\n",
    "  model.compile(optimizer='adam',\n",
    "                loss='sparse_categorical_crossentropy',\n",
    "                metrics=['accuracy'])\n",
    "\n",
    "\n",
    "  \n",
    "  if not is_in_interactive_mode:\n",
    "    # Create Swarm callback\n",
    "    swarmCallback = SwarmCallback(sync_interval=sync_interval,\n",
    "                                    min_peers=minimum_peers,\n",
    "                                    val_data=(x_test, y_test),\n",
    "                                    val_batch_size=batch_size,\n",
    "                                    model_name=model_name)\n",
    "    callbacks = [swarmCallback]\n",
    "  else:\n",
    "    callbacks = []\n",
    "\n",
    "  model.fit(x_train, y_train, \n",
    "            batch_size=batch_size,\n",
    "            epochs=max_epochs,\n",
    "            verbose=1,            \n",
    "            callbacks=callbacks)\n",
    "\n",
    "  # Save model and weights\n",
    "  model_path = os.path.join(resultDir, model_name)\n",
    "  model.save(model_path)\n",
    "  print('Saved the trained model!')\n",
    "\n"
   ]
  },
  {
   "cell_type": "code",
   "execution_count": null,
   "id": "952951d9-9c0f-440b-bc63-1b6728dc2e80",
   "metadata": {},
   "outputs": [],
   "source": [
    "main()"
   ]
  },
  {
   "cell_type": "code",
   "execution_count": null,
   "id": "f77c06c6-9fef-4ae4-92d1-0e23fed2f169",
   "metadata": {},
   "outputs": [],
   "source": []
  }
 ],
 "metadata": {
  "kernelspec": {
   "display_name": "Python 3 (ipykernel)",
   "language": "python",
   "name": "python3"
  },
  "language_info": {
   "codemirror_mode": {
    "name": "ipython",
    "version": 3
   },
   "file_extension": ".py",
   "mimetype": "text/x-python",
   "name": "python",
   "nbconvert_exporter": "python",
   "pygments_lexer": "ipython3",
   "version": "3.9.7"
  },
  "widgets": {
   "application/vnd.jupyter.widget-state+json": {
    "state": {},
    "version_major": 2,
    "version_minor": 0
   }
  }
 },
 "nbformat": 4,
 "nbformat_minor": 5
}
