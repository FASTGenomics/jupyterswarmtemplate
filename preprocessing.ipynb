{
 "cells": [
  {
   "cell_type": "markdown",
   "id": "d8a8cade-7ba7-493e-844d-0056bdf8b6cb",
   "metadata": {},
   "source": [
    "## Preprocess data"
   ]
  },
  {
   "cell_type": "code",
   "execution_count": null,
   "id": "8df46c4b",
   "metadata": {},
   "outputs": [],
   "source": [
    "import os\n",
    "from shutil import copy2\n",
    "import pathlib"
   ]
  },
  {
   "cell_type": "code",
   "execution_count": null,
   "id": "1a9662b6-27d7-4973-9672-6cfcf78ed8f9",
   "metadata": {},
   "outputs": [],
   "source": [
    "dataset_dir = os.environ['FG_DATASETS_DIR']\n",
    "data_dir = os.path.join( os.environ['FG_ANALYSIS_DIR'] , \"data\" )\n",
    "result_dir = os.path.join( os.environ['FG_ANALYSIS_DIR'] , \"result\" )\n",
    "filetype = \".npz\"\n"
   ]
  },
  {
   "cell_type": "code",
   "execution_count": null,
   "id": "cba0b32c",
   "metadata": {},
   "outputs": [],
   "source": [
    "print( \"ensuring result directory exist\")\n",
    "if not pathlib.Path(result_dir).exists():\n",
    "    os.mkdir(result_dir)\n"
   ]
  },
  {
   "cell_type": "code",
   "execution_count": null,
   "id": "1a1b3fb6-1ae1-45d7-b2f6-070893ea811e",
   "metadata": {},
   "outputs": [],
   "source": [
    "\n",
    "if not dataset_dir.endswith(\"/\"):\n",
    "    dataset_dir += \"/\"\n",
    "\n",
    "if not data_dir.endswith(\"/\"):\n",
    "    data_dir += \"/\"\n",
    "\n",
    "print(\"ensuring result data exist\")\n",
    "if not pathlib.Path(data_dir).exists():\n",
    "    os.mkdir(data_dir)\n",
    "\n",
    "print(\"copy files to data directory\")\n",
    "count = 0\n",
    "for x in os.walk(dataset_dir):\n",
    "  sub_dir = x[0]\n",
    "  for file_name in os.listdir( sub_dir ):\n",
    "      extension = os.path.splitext(file_name)[1]\n",
    "      if extension.lower() == filetype.lower():\n",
    "          source = sub_dir + \"/\" + file_name\n",
    "          print(\"copying \" + source)\n",
    "          copy2(source, data_dir)\n",
    "          count = count + 1\n",
    "            \n",
    "print ( \"done. Processed \" + str(count) + \" files!\")\n"
   ]
  },
  {
   "cell_type": "code",
   "execution_count": null,
   "id": "3ec1dec8-1785-4048-a567-3991bb71fce7",
   "metadata": {},
   "outputs": [],
   "source": []
  }
 ],
 "metadata": {
  "kernelspec": {
   "display_name": "Python 3 (ipykernel)",
   "language": "python",
   "name": "python3"
  },
  "language_info": {
   "codemirror_mode": {
    "name": "ipython",
    "version": 3
   },
   "file_extension": ".py",
   "mimetype": "text/x-python",
   "name": "python",
   "nbconvert_exporter": "python",
   "pygments_lexer": "ipython3",
   "version": "3.9.7"
  },
  "widgets": {
   "application/vnd.jupyter.widget-state+json": {
    "state": {},
    "version_major": 2,
    "version_minor": 0
   }
  }
 },
 "nbformat": 4,
 "nbformat_minor": 5
}
